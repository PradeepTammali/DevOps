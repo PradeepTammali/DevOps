{
 "metadata": {
  "language_info": {
   "codemirror_mode": {
    "name": "ipython",
    "version": 3
   },
   "file_extension": ".py",
   "mimetype": "text/x-python",
   "name": "python",
   "nbconvert_exporter": "python",
   "pygments_lexer": "ipython3",
   "version": "3.7.10-final"
  },
  "orig_nbformat": 2,
  "kernelspec": {
   "name": "python371064bit8103da34d2eb43379f8cd1c9630c33e5",
   "display_name": "Python 3.7.10 64-bit",
   "language": "python"
  }
 },
 "nbformat": 4,
 "nbformat_minor": 2,
 "cells": [
  {
   "cell_type": "code",
   "execution_count": 86,
   "metadata": {},
   "outputs": [
    {
     "output_type": "execute_result",
     "data": {
      "text/plain": [
       "'yqlpyj yjl ddykjly'"
      ]
     },
     "metadata": {},
     "execution_count": 86
    }
   ],
   "source": [
    "import string\n",
    "\n",
    "def caesar(plain_text, shift_num=1):\n",
    "    letters = string.ascii_lowercase\n",
    "    mask = letters[shift_num:] + letters[:shift_num]\n",
    "    trantab = str.maketrans(letters, mask)\n",
    "    return plain_text.translate(trantab)\n",
    "\n",
    "caesar(\"skfjsd sdf xxsedfs\", 6)"
   ]
  },
  {
   "cell_type": "code",
   "execution_count": 145,
   "metadata": {},
   "outputs": [
    {
     "output_type": "stream",
     "name": "stdout",
     "text": [
      "Device was on for 427 seconds\nTimestamps for error events:\n\nJul 11 16:11:58:490\nJul 11 16:11:51:490\nJul 11 16:11:51:490\nJul 11 16:11:51:490\nJul 11 16:18:59:234\n"
     ]
    }
   ],
   "source": [
    "# filename = str(input(\"Filename: \"))\n",
    "import datetime\n",
    "filename = 'sample.log'\n",
    "first_timestamp = None\n",
    "err_timestamps = []\n",
    "last_timestamp = None\n",
    "time = 0 \n",
    "\n",
    "def get():\n",
    "    line = (row for row in open(filename))\n",
    "    time = 0\n",
    "    while True:\n",
    "        data = next(line).strip()\n",
    "        yield (data[:19], data.split()[-1])\n",
    "\n",
    "\n",
    "def duration(start, end):\n",
    "    format = \"%b %d %H:%M:%S:%f\"\n",
    "    start_time = datetime.datetime.strptime(start, format)\n",
    "    end_time = datetime.datetime.strptime(end, format)\n",
    "    return (end_time - start_time).total_seconds()\n",
    "    \n",
    "\n",
    "for timestamp, action in get():\n",
    "    if action == \"OFF\":\n",
    "        last_timestamp = timestamp\n",
    "        break\n",
    "    elif action == \"ON\" and first_timestamp is None:\n",
    "        first_timestamp = timestamp\n",
    "    elif action == \"ERR\":\n",
    "        err_timestamps.append(timestamp)\n",
    "\n",
    "\n",
    "time = duration(first_timestamp, last_timestamp)\n",
    "print(f\"Device was on for {int(time)} seconds\")\n",
    "print(\"Timestamps for error events:\\n\")\n",
    "print(*err_timestamps, sep='\\n')\n",
    "\n",
    "    "
   ]
  },
  {
   "source": [
    "SUDOKU"
   ],
   "cell_type": "markdown",
   "metadata": {}
  },
  {
   "cell_type": "code",
   "execution_count": null,
   "metadata": {},
   "outputs": [],
   "source": []
  },
  {
   "cell_type": "code",
   "execution_count": 195,
   "metadata": {
    "tags": []
   },
   "outputs": [
    {
     "output_type": "stream",
     "name": "stdout",
     "text": [
      "1\t2\t3\t4\t5\t6\t7\t8\t9\t\n2\t3\t4\t5\t6\t7\t8\t9\t1\t\n3\t4\t5\t6\t7\t8\t9\t1\t2\t\n4\t5\t6\t7\t8\t9\t1\t2\t3\t\n5\t6\t7\t8\t9\t1\t2\t3\t4\t\n6\t7\t8\t9\t1\t2\t3\t4\t5\t\n7\t8\t9\t1\t2\t3\t4\t5\t6\t\n8\t9\t1\t2\t3\t4\t5\t6\t7\t\n9\t1\t2\t3\t4\t5\t6\t7\t8\t\n\n"
     ]
    }
   ],
   "source": [
    "\n",
    "import itertools as it\n",
    "puzzle = '004006079000000602056092300078061030509000406020540890007410920105000000840600100'\n",
    "#permutations(range(1,9))\n",
    "\n",
    "\n",
    "def latin_square():\n",
    "    result = \"\"\n",
    "    d = []\n",
    "    for r in range(1,10):\n",
    "        row = []\n",
    "        for c, s in zip(range(1, 10), list(range(r,10)) + list(range(1, r))):\n",
    "            result = result + str(s) + \"\\t\"\n",
    "        result = result + \"\\n\"\n",
    "    print(result)\n",
    "  \n",
    "latin_square()\n"
   ]
  },
  {
   "cell_type": "code",
   "execution_count": 258,
   "metadata": {},
   "outputs": [
    {
     "output_type": "execute_result",
     "data": {
      "text/plain": [
       "1"
      ]
     },
     "metadata": {},
     "execution_count": 258
    }
   ],
   "source": [
    "s = \"crunchy\"\n",
    "s.index(list(dict(sorted({i: s.count(i) for i in s}.items(), key=lambda x: x[1])).keys())[0])"
   ]
  },
  {
   "cell_type": "code",
   "execution_count": 472,
   "metadata": {
    "tags": []
   },
   "outputs": [
    {
     "output_type": "execute_result",
     "data": {
      "text/plain": [
       "'284136579913754682756892341478961235539287416621543897367415928195328764842679153'"
      ]
     },
     "metadata": {},
     "execution_count": 472
    }
   ],
   "source": [
    "puzzle = \"004006079000000602056092300078061030509000406020540890007410920105000000840600100\"\n",
    "\n",
    "def line_to_grid(values):\n",
    "    grid = []\n",
    "    for i in range(0,9):\n",
    "        grid.append(list(map(lambda x: int(x), list(values[i*9:(i+1)*9]))))\n",
    "    return grid\n",
    "\n",
    "def grid_to_line(grid):\n",
    "    line = \"\"\n",
    "    line = [line + str(i) for row in grid for i in row]\n",
    "    return \"\".join(line)\n",
    "\n",
    "def small_grid(c, r):\n",
    "    for i in range(int(c/3) * 3, (int(c/3) * 3) + 3):\n",
    "        for j in range(int(r/3) * 3, (int(r/3) * 3) + 3):\n",
    "            if not (i == c and j == r):\n",
    "                yield (i,j)\n",
    "\n",
    "def detect_possible(grid, c, r):\n",
    "    possible = [1,2,3,4,5,6,7,8,9]\n",
    "    # Ignoring if the values is already filled\n",
    "    if grid[r][c] is not 0:\n",
    "        return False\n",
    "    # Removing small grid number from possible combinations\n",
    "    for v, k in small_grid(c, r):\n",
    "        if grid[k][v] in possible:\n",
    "            possible.remove(grid[k][v])\n",
    "    # Removing same row filled values \n",
    "    [possible.remove(rv) for rv in grid[r] if rv in possible]\n",
    "    # Removing same column filled values \n",
    "    [possible.remove(grid[i][c]) for i in range(0,len(grid)) if grid[i][c] in possible]\n",
    "    return possible\n",
    "\n",
    "\n",
    "## change the following to recursive method\n",
    "grid = line_to_grid(puzzle)\n",
    "grid_poss = {}\n",
    "while True:\n",
    "    count = 0\n",
    "    for i in range(0,9):\n",
    "        for j in range(0,9):\n",
    "            grid_poss[(i,j)] = detect_possible(grid, r=i, c=j)\n",
    "            if not grid_poss[(i,j)]:\n",
    "                count += 1\n",
    "            elif len(grid_poss[(i,j)]) == 1:\n",
    "                grid[i][j] = grid_poss[(i,j)][0]\n",
    "    if count == 81:\n",
    "        break\n",
    "\n",
    "grid_to_line(grid)\n"
   ]
  }
 ]
}